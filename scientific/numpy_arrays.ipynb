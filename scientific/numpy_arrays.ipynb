{
  "cells": [
    {
      "cell_type": "markdown",
      "id": "5126b78c",
      "metadata": {
        "id": "5126b78c"
      },
      "source": [
        "# Introduction to Numpy\n",
        "\n",
        "**Prerequisites**\n",
        "\n",
        "- [Python Fundamentals](https://datascience.quantecon.org/../python_fundamentals/index.html)  \n",
        "\n",
        "\n",
        "**Outcomes**\n",
        "\n",
        "- Understand basics about numpy arrays  \n",
        "- Index into multi-dimensional arrays  \n",
        "- Use universal functions/broadcasting to do element-wise operations on arrays  "
      ]
    },
    {
      "cell_type": "markdown",
      "id": "0cb4ba79",
      "metadata": {
        "id": "0cb4ba79"
      },
      "source": [
        "## Numpy Arrays\n",
        "\n",
        "Now that we have learned the fundamentals of programming in Python, we will learn how we can use Python\n",
        "to perform the computations required in data science and economics. We call these the “scientific Python tools”.\n",
        "\n",
        "The foundational library that helps us perform these computations is known as `numpy` (numerical\n",
        "Python).\n",
        "\n",
        "Numpy’s core contribution is a new data-type called an *array*.\n",
        "\n",
        "An array is similar to a list, but numpy imposes some additional restrictions on how the data inside is organized.\n",
        "\n",
        "These restrictions allow numpy to\n",
        "\n",
        "1. Be more efficient in performing mathematical and scientific computations.  \n",
        "1. Expose functions that allow numpy to do the necessary linear algebra for machine learning and statistics.  \n",
        "\n",
        "\n",
        "Before we get started, please note that the convention for importing the numpy package is to use the\n",
        "nickname `np`:"
      ]
    },
    {
      "cell_type": "code",
      "execution_count": 1,
      "id": "3da964a9",
      "metadata": {
        "hide-output": false,
        "id": "3da964a9"
      },
      "outputs": [],
      "source": [
        "import numpy as np"
      ]
    },
    {
      "cell_type": "markdown",
      "id": "43519c5d",
      "metadata": {
        "id": "43519c5d"
      },
      "source": [
        "### What is an Array?\n",
        "\n",
        "An array is a multi-dimensional grid of values.\n",
        "\n",
        "What does this mean? It is easier to demonstrate than to explain.\n",
        "\n",
        "In this block of code, we build a 1-dimensional array."
      ]
    },
    {
      "cell_type": "code",
      "execution_count": 2,
      "id": "aa893a8f",
      "metadata": {
        "hide-output": false,
        "colab": {
          "base_uri": "https://localhost:8080/"
        },
        "id": "aa893a8f",
        "outputId": "fd93faf6-71bc-4dfc-c474-20dea2810fb7"
      },
      "outputs": [
        {
          "output_type": "stream",
          "name": "stdout",
          "text": [
            "[1 2 3]\n"
          ]
        }
      ],
      "source": [
        "# create an array from a list\n",
        "x_1d = np.array([1, 2, 3])\n",
        "print(x_1d)"
      ]
    },
    {
      "cell_type": "markdown",
      "id": "c050490c",
      "metadata": {
        "id": "c050490c"
      },
      "source": [
        "You can think of a 1-dimensional array as a list of numbers."
      ]
    },
    {
      "cell_type": "code",
      "execution_count": 3,
      "id": "d4bb893d",
      "metadata": {
        "hide-output": false,
        "colab": {
          "base_uri": "https://localhost:8080/"
        },
        "id": "d4bb893d",
        "outputId": "0d52fa99-5052-4db2-ecb8-bf505eb0d3f5"
      },
      "outputs": [
        {
          "output_type": "stream",
          "name": "stdout",
          "text": [
            "1\n",
            "[1 2]\n"
          ]
        }
      ],
      "source": [
        "# We can index like we did with lists\n",
        "print(x_1d[0])\n",
        "print(x_1d[0:2])"
      ]
    },
    {
      "cell_type": "markdown",
      "id": "4c522760",
      "metadata": {
        "id": "4c522760"
      },
      "source": [
        "Note that the range of indices does not include the end-point, that\n",
        "is"
      ]
    },
    {
      "cell_type": "code",
      "execution_count": 4,
      "id": "6133ef48",
      "metadata": {
        "hide-output": false,
        "colab": {
          "base_uri": "https://localhost:8080/"
        },
        "id": "6133ef48",
        "outputId": "f07fa516-17d6-4c58-df48-5c9d1bda77b7"
      },
      "outputs": [
        {
          "output_type": "stream",
          "name": "stdout",
          "text": [
            "[ True  True  True]\n",
            "[1 2]\n"
          ]
        }
      ],
      "source": [
        "print(x_1d[0:3] == x_1d[:])\n",
        "print(x_1d[0:2])"
      ]
    },
    {
      "cell_type": "markdown",
      "id": "4537fe3f",
      "metadata": {
        "id": "4537fe3f"
      },
      "source": [
        "The differences emerge as we move into higher dimensions.\n",
        "\n",
        "Next, we define a 2-dimensional array (a matrix)"
      ]
    },
    {
      "cell_type": "code",
      "execution_count": 6,
      "id": "df2d4c6e",
      "metadata": {
        "hide-output": false,
        "colab": {
          "base_uri": "https://localhost:8080/"
        },
        "id": "df2d4c6e",
        "outputId": "ba46cae1-4e24-4d2d-8717-f3c4978e7e87"
      },
      "outputs": [
        {
          "output_type": "stream",
          "name": "stdout",
          "text": [
            "[[1 2 3]\n",
            " [4 5 6]\n",
            " [7 8 9]]\n"
          ]
        }
      ],
      "source": [
        "x_2d = np.array([[1, 2, 3], [4, 5, 6], [7, 8, 9]])\n",
        "print(x_2d)"
      ]
    },
    {
      "cell_type": "markdown",
      "id": "b8bec2e4",
      "metadata": {
        "id": "b8bec2e4"
      },
      "source": [
        "Notice that the data is no longer represented as something flat, but rather,\n",
        "as three rows and three columns of numbers.\n",
        "\n",
        "The first question that you might ask yourself is: “how do I access the values in this array?”\n",
        "\n",
        "You access each element by specifying a row first and then a column. For\n",
        "example, if we wanted to access the `6`, we would ask for the (1, 2) element."
      ]
    },
    {
      "cell_type": "code",
      "execution_count": 7,
      "id": "04c8d472",
      "metadata": {
        "hide-output": false,
        "colab": {
          "base_uri": "https://localhost:8080/"
        },
        "id": "04c8d472",
        "outputId": "1cf83b99-4a95-464b-81fa-8d01978e8fc7"
      },
      "outputs": [
        {
          "output_type": "stream",
          "name": "stdout",
          "text": [
            "6\n"
          ]
        }
      ],
      "source": [
        "print(x_2d[1, 2])  # Indexing into two dimensions!"
      ]
    },
    {
      "cell_type": "markdown",
      "id": "f47bfc1b",
      "metadata": {
        "id": "f47bfc1b"
      },
      "source": [
        "Or to get the top left corner…"
      ]
    },
    {
      "cell_type": "code",
      "execution_count": 8,
      "id": "eb409c61",
      "metadata": {
        "hide-output": false,
        "colab": {
          "base_uri": "https://localhost:8080/"
        },
        "id": "eb409c61",
        "outputId": "f3e2f440-7700-4e93-d7eb-0baa3a1dfea9"
      },
      "outputs": [
        {
          "output_type": "stream",
          "name": "stdout",
          "text": [
            "1\n"
          ]
        }
      ],
      "source": [
        "print(x_2d[0, 0])  # Indexing into two dimensions!"
      ]
    },
    {
      "cell_type": "markdown",
      "id": "e2839a8e",
      "metadata": {
        "id": "e2839a8e"
      },
      "source": [
        "To get the first, and then second rows…"
      ]
    },
    {
      "cell_type": "code",
      "execution_count": 9,
      "id": "c31d3d76",
      "metadata": {
        "hide-output": false,
        "colab": {
          "base_uri": "https://localhost:8080/"
        },
        "id": "c31d3d76",
        "outputId": "3c1c75e7-0607-4ef2-c379-34a541bba118"
      },
      "outputs": [
        {
          "output_type": "stream",
          "name": "stdout",
          "text": [
            "[1 2 3]\n",
            "[4 5 6]\n"
          ]
        }
      ],
      "source": [
        "print(x_2d[0, :])\n",
        "print(x_2d[1, :])"
      ]
    },
    {
      "cell_type": "markdown",
      "id": "901fc27e",
      "metadata": {
        "id": "901fc27e"
      },
      "source": [
        "Or the columns…"
      ]
    },
    {
      "cell_type": "code",
      "execution_count": 10,
      "id": "09a17eb4",
      "metadata": {
        "hide-output": false,
        "colab": {
          "base_uri": "https://localhost:8080/"
        },
        "id": "09a17eb4",
        "outputId": "01d7a16f-4a23-47a7-9ebb-5ce2ed530b44"
      },
      "outputs": [
        {
          "output_type": "stream",
          "name": "stdout",
          "text": [
            "[1 4 7]\n",
            "[2 5 8]\n"
          ]
        }
      ],
      "source": [
        "print(x_2d[:, 0])\n",
        "print(x_2d[:, 1])"
      ]
    },
    {
      "cell_type": "markdown",
      "id": "b87fa18f",
      "metadata": {
        "id": "b87fa18f"
      },
      "source": [
        "This continues to generalize, since numpy gives us as many dimensions as we want in an array.\n",
        "\n",
        "For example, we build a 3-dimensional array below."
      ]
    },
    {
      "cell_type": "code",
      "execution_count": 11,
      "id": "b8ecf349",
      "metadata": {
        "hide-output": false,
        "colab": {
          "base_uri": "https://localhost:8080/"
        },
        "id": "b8ecf349",
        "outputId": "487ed3a0-29e3-4324-9a88-0fa22a1320d9"
      },
      "outputs": [
        {
          "output_type": "stream",
          "name": "stdout",
          "text": [
            "[[[ 1  2  3]\n",
            "  [ 4  5  6]]\n",
            "\n",
            " [[10 20 30]\n",
            "  [40 50 60]]]\n"
          ]
        }
      ],
      "source": [
        "x_3d_list = [[[1, 2, 3], [4, 5, 6]], [[10, 20, 30], [40, 50, 60]]]\n",
        "x_3d = np.array(x_3d_list)\n",
        "print(x_3d)"
      ]
    },
    {
      "cell_type": "markdown",
      "id": "9cd3804a",
      "metadata": {
        "id": "9cd3804a"
      },
      "source": [
        "#### Array Indexing\n",
        "\n",
        "Now that there are multiple dimensions, indexing might feel somewhat non-obvious.\n",
        "\n",
        "Do the rows or columns come first? In higher dimensions, what is the order of\n",
        "the index?\n",
        "\n",
        "Notice that the array is built using a list of lists (you could also use tuples!).\n",
        "\n",
        "Indexing into the array will correspond to choosing elements from each list.\n",
        "\n",
        "First, notice that the dimensions give two stacked matrices, which we can access with"
      ]
    },
    {
      "cell_type": "code",
      "execution_count": 12,
      "id": "a365cf22",
      "metadata": {
        "hide-output": false,
        "colab": {
          "base_uri": "https://localhost:8080/"
        },
        "id": "a365cf22",
        "outputId": "c138f5d7-b56a-4a7e-903e-240564eb51a8"
      },
      "outputs": [
        {
          "output_type": "stream",
          "name": "stdout",
          "text": [
            "[[1 2 3]\n",
            " [4 5 6]]\n",
            "[[10 20 30]\n",
            " [40 50 60]]\n"
          ]
        }
      ],
      "source": [
        "print(x_3d[0])\n",
        "print(x_3d[1])"
      ]
    },
    {
      "cell_type": "markdown",
      "id": "87324d9a",
      "metadata": {
        "id": "87324d9a"
      },
      "source": [
        "In the case of the first, it is synonymous with"
      ]
    },
    {
      "cell_type": "markdown",
      "source": [],
      "metadata": {
        "id": "UVnGQF4lrbnB"
      },
      "id": "UVnGQF4lrbnB"
    },
    {
      "cell_type": "code",
      "execution_count": 47,
      "id": "56b4d7bd",
      "metadata": {
        "hide-output": false,
        "colab": {
          "base_uri": "https://localhost:8080/"
        },
        "id": "56b4d7bd",
        "outputId": "a4d871f2-94e4-45f8-b291-6ca484bd6191"
      },
      "outputs": [
        {
          "output_type": "stream",
          "name": "stdout",
          "text": [
            "[[1 2 3]\n",
            " [4 5 6]]\n"
          ]
        }
      ],
      "source": [
        "print(x_3d[0, :, :])"
      ]
    },
    {
      "cell_type": "markdown",
      "id": "25f127a5",
      "metadata": {
        "id": "25f127a5"
      },
      "source": [
        "Let’s work through another example to further clarify this concept with our\n",
        "3-dimensional array.\n",
        "\n",
        "Our goal will be to find the index that retrieves the `4` out of `x_3d`.\n",
        "\n",
        "Recall that when we created `x_3d`, we used the list `[[[1, 2, 3], [4, 5, 6]], [[10, 20, 30], [40, 50, 60]]]`.\n",
        "\n",
        "Notice that the 0 element of that list is `[[1, 2, 3], [4, 5, 6]]`. This is the\n",
        "list that contains the `4` so the first index we would use is a 0."
      ]
    },
    {
      "cell_type": "code",
      "execution_count": 14,
      "id": "0903f1e2",
      "metadata": {
        "hide-output": false,
        "colab": {
          "base_uri": "https://localhost:8080/"
        },
        "id": "0903f1e2",
        "outputId": "008b388b-90e7-4d33-c35d-70f61981ecdb"
      },
      "outputs": [
        {
          "output_type": "stream",
          "name": "stdout",
          "text": [
            "The 0 element is [[1, 2, 3], [4, 5, 6]]\n",
            "The 1 element is [[10, 20, 30], [40, 50, 60]]\n"
          ]
        }
      ],
      "source": [
        "print(f\"The 0 element is {x_3d_list[0]}\")\n",
        "print(f\"The 1 element is {x_3d_list[1]}\")"
      ]
    },
    {
      "cell_type": "markdown",
      "id": "87458f99",
      "metadata": {
        "id": "87458f99"
      },
      "source": [
        "We then move to the next lists which were the 0 element of the inner-most dimension. Notice that\n",
        "the two lists at this level `[1, 2, 3]` and `[3, 4, 5]`.\n",
        "\n",
        "The 4 is in the second 1 element (index `1`), so the second index we would choose is 1."
      ]
    },
    {
      "cell_type": "code",
      "execution_count": 15,
      "id": "02b1e130",
      "metadata": {
        "hide-output": false,
        "colab": {
          "base_uri": "https://localhost:8080/"
        },
        "id": "02b1e130",
        "outputId": "38bad025-c6c3-4279-e8e7-f973c5a0fbd8"
      },
      "outputs": [
        {
          "output_type": "stream",
          "name": "stdout",
          "text": [
            "The 0 element of the 0 element is [1, 2, 3]\n",
            "The 1 element of the 0 element is [4, 5, 6]\n"
          ]
        }
      ],
      "source": [
        "print(f\"The 0 element of the 0 element is {x_3d_list[0][0]}\")\n",
        "print(f\"The 1 element of the 0 element is {x_3d_list[0][1]}\")"
      ]
    },
    {
      "cell_type": "markdown",
      "id": "ab4dd910",
      "metadata": {
        "id": "ab4dd910"
      },
      "source": [
        "Finally, we move to the outer-most dimension, which has a list of numbers\n",
        "`[4, 5, 6]`.\n",
        "\n",
        "The 4 is element 0 of this list, so the third, or outer-most index, would be `0`."
      ]
    },
    {
      "cell_type": "code",
      "execution_count": 16,
      "id": "dce5b404",
      "metadata": {
        "hide-output": false,
        "colab": {
          "base_uri": "https://localhost:8080/"
        },
        "id": "dce5b404",
        "outputId": "a28df234-c9e7-48c5-8c18-3c6e00a32c87"
      },
      "outputs": [
        {
          "output_type": "stream",
          "name": "stdout",
          "text": [
            "The 0 element of the 1 element of the 0 element is 4\n"
          ]
        }
      ],
      "source": [
        "print(f\"The 0 element of the 1 element of the 0 element is {x_3d_list[0][1][0]}\")"
      ]
    },
    {
      "cell_type": "markdown",
      "id": "f0e3c8f3",
      "metadata": {
        "id": "f0e3c8f3"
      },
      "source": [
        "Now we can use these same indices to index into the array. With an array, we can index using a single operation rather than repeated indexing as we did with the list `x_3d_list[0][1][0]`.\n",
        "\n",
        "Let’s test it to see whether we did it correctly!"
      ]
    },
    {
      "cell_type": "code",
      "execution_count": 17,
      "id": "ff5173fe",
      "metadata": {
        "hide-output": false,
        "colab": {
          "base_uri": "https://localhost:8080/"
        },
        "id": "ff5173fe",
        "outputId": "be5dadc3-2399-4ede-b50c-32eceb6f1aa1"
      },
      "outputs": [
        {
          "output_type": "stream",
          "name": "stdout",
          "text": [
            "4\n"
          ]
        }
      ],
      "source": [
        "print(x_3d[0, 1, 0])"
      ]
    },
    {
      "cell_type": "code",
      "source": [
        "x_3d"
      ],
      "metadata": {
        "colab": {
          "base_uri": "https://localhost:8080/"
        },
        "id": "2O2Sne6mrshi",
        "outputId": "ebe658ca-be1b-423e-b8dd-bc235fa7e828"
      },
      "id": "2O2Sne6mrshi",
      "execution_count": 19,
      "outputs": [
        {
          "output_type": "execute_result",
          "data": {
            "text/plain": [
              "array([[[ 1,  2,  3],\n",
              "        [ 4,  5,  6]],\n",
              "\n",
              "       [[10, 20, 30],\n",
              "        [40, 50, 60]]])"
            ]
          },
          "metadata": {},
          "execution_count": 19
        }
      ]
    },
    {
      "cell_type": "code",
      "source": [
        "print(x_3d[0,:,:])"
      ],
      "metadata": {
        "colab": {
          "base_uri": "https://localhost:8080/"
        },
        "id": "r1hcvmfOr31f",
        "outputId": "a3643b28-6348-4537-a0c7-e572d9d6f492"
      },
      "id": "r1hcvmfOr31f",
      "execution_count": 26,
      "outputs": [
        {
          "output_type": "stream",
          "name": "stdout",
          "text": [
            "[[1 2 3]\n",
            " [4 5 6]]\n"
          ]
        }
      ]
    },
    {
      "cell_type": "code",
      "source": [
        "print(x_3d[:, 1, :])"
      ],
      "metadata": {
        "colab": {
          "base_uri": "https://localhost:8080/"
        },
        "id": "z4BGXKMproWa",
        "outputId": "ee1f5e85-bd47-441c-870d-5611a9bd4b35"
      },
      "id": "z4BGXKMproWa",
      "execution_count": 27,
      "outputs": [
        {
          "output_type": "stream",
          "name": "stdout",
          "text": [
            "[[ 4  5  6]\n",
            " [40 50 60]]\n"
          ]
        }
      ]
    },
    {
      "cell_type": "code",
      "source": [
        "print(x_3d[:,:,0])"
      ],
      "metadata": {
        "colab": {
          "base_uri": "https://localhost:8080/"
        },
        "id": "2xFrt9CwsLIw",
        "outputId": "c2ea651c-7636-46b7-8969-bf0c978d1222"
      },
      "id": "2xFrt9CwsLIw",
      "execution_count": 28,
      "outputs": [
        {
          "output_type": "stream",
          "name": "stdout",
          "text": [
            "[[ 1  4]\n",
            " [10 40]]\n"
          ]
        }
      ]
    },
    {
      "cell_type": "markdown",
      "id": "af866cbd",
      "metadata": {
        "id": "af866cbd"
      },
      "source": [
        "Success!"
      ]
    },
    {
      "cell_type": "markdown",
      "id": "ede683df",
      "metadata": {
        "id": "ede683df"
      },
      "source": [
        "#### Exercise\n",
        "\n",
        "See exercise 1 in the [exercise list](#ex3-1)."
      ]
    },
    {
      "cell_type": "markdown",
      "id": "74c14724",
      "metadata": {
        "id": "74c14724"
      },
      "source": [
        "#### Exercise\n",
        "\n",
        "See exercise 2 in the [exercise list](#ex3-1).\n",
        "\n",
        "We can also select multiple elements at a time – this is called slicing.\n",
        "\n",
        "If we wanted to have an array with just `[1, 2, 3]` then we would do"
      ]
    },
    {
      "cell_type": "code",
      "execution_count": 29,
      "id": "d09fd804",
      "metadata": {
        "hide-output": false,
        "colab": {
          "base_uri": "https://localhost:8080/"
        },
        "id": "d09fd804",
        "outputId": "5b0ec925-e4fc-4d39-a0e1-ce6eb0f13ccb"
      },
      "outputs": [
        {
          "output_type": "stream",
          "name": "stdout",
          "text": [
            "[1 2 3]\n"
          ]
        }
      ],
      "source": [
        "print(x_3d[0, 0, :])"
      ]
    },
    {
      "cell_type": "markdown",
      "id": "953242bc",
      "metadata": {
        "id": "953242bc"
      },
      "source": [
        "Notice that we put a `:` on the dimension where we want to select all of the elements. We can also\n",
        "slice out subsets of the elements by doing `start:stop+1`.\n",
        "\n",
        "Notice how the following arrays differ."
      ]
    },
    {
      "cell_type": "code",
      "execution_count": 30,
      "id": "328c93b0",
      "metadata": {
        "hide-output": false,
        "colab": {
          "base_uri": "https://localhost:8080/"
        },
        "id": "328c93b0",
        "outputId": "f4ad7432-af8f-4a56-8a41-e9a6a548bed1"
      },
      "outputs": [
        {
          "output_type": "stream",
          "name": "stdout",
          "text": [
            "[[ 1  2  3]\n",
            " [10 20 30]]\n",
            "[[ 1  2]\n",
            " [10 20]]\n",
            "[[ 1  2]\n",
            " [10 20]]\n"
          ]
        }
      ],
      "source": [
        "print(x_3d[:, 0, :])\n",
        "print(x_3d[:, 0, 0:2])\n",
        "print(x_3d[:, 0, :2])  # the 0  in 0:2 is optional"
      ]
    },
    {
      "cell_type": "markdown",
      "id": "794c66b3",
      "metadata": {
        "id": "794c66b3"
      },
      "source": [
        "#### Exercise\n",
        "\n",
        "See exercise 3 in the [exercise list](#ex3-1)."
      ]
    },
    {
      "cell_type": "markdown",
      "id": "bf0006f6",
      "metadata": {
        "id": "bf0006f6"
      },
      "source": [
        "### Array Functionality"
      ]
    },
    {
      "cell_type": "markdown",
      "id": "2d5070e3",
      "metadata": {
        "id": "2d5070e3"
      },
      "source": [
        "#### Array Properties\n",
        "\n",
        "All numpy arrays have various useful properties.\n",
        "\n",
        "Properties are similar to methods in that they’re accessed through\n",
        "the “dot notation.” However, they aren’t a function so we don’t need parentheses.\n",
        "\n",
        "The two most frequently used properties are `shape` and `dtype`.\n",
        "\n",
        "`shape` tells us how many elements are in each array dimension.\n",
        "\n",
        "`dtype` tells us the types of an array’s elements.\n",
        "\n",
        "Let’s do some examples to see these properties in action."
      ]
    },
    {
      "cell_type": "code",
      "execution_count": 31,
      "id": "021c8141",
      "metadata": {
        "hide-output": false,
        "colab": {
          "base_uri": "https://localhost:8080/"
        },
        "id": "021c8141",
        "outputId": "8fe92232-32a5-4017-d2f9-92e1f576abec"
      },
      "outputs": [
        {
          "output_type": "stream",
          "name": "stdout",
          "text": [
            "(2, 3)\n",
            "int64\n"
          ]
        }
      ],
      "source": [
        "x = np.array([[1, 2, 3], [4, 5, 6]])\n",
        "print(x.shape)\n",
        "print(x.dtype)"
      ]
    },
    {
      "cell_type": "markdown",
      "id": "97218373",
      "metadata": {
        "id": "97218373"
      },
      "source": [
        "We’ll use this to practice unpacking a tuple, like `x.shape`, directly into variables."
      ]
    },
    {
      "cell_type": "code",
      "execution_count": 32,
      "id": "2c8831fa",
      "metadata": {
        "hide-output": false,
        "colab": {
          "base_uri": "https://localhost:8080/"
        },
        "id": "2c8831fa",
        "outputId": "62cbcf1c-bc79-4268-900e-530238211f91"
      },
      "outputs": [
        {
          "output_type": "stream",
          "name": "stdout",
          "text": [
            "rows = 2, columns = 3\n"
          ]
        }
      ],
      "source": [
        "rows, columns = x.shape\n",
        "print(f\"rows = {rows}, columns = {columns}\")"
      ]
    },
    {
      "cell_type": "code",
      "execution_count": 33,
      "id": "e8621fa1",
      "metadata": {
        "hide-output": false,
        "colab": {
          "base_uri": "https://localhost:8080/"
        },
        "id": "e8621fa1",
        "outputId": "503833a7-0da1-46f8-f71c-4a5f7abb2b4f"
      },
      "outputs": [
        {
          "output_type": "stream",
          "name": "stdout",
          "text": [
            "(3,)\n",
            "bool\n"
          ]
        }
      ],
      "source": [
        "x = np.array([True, False, True])\n",
        "print(x.shape)\n",
        "print(x.dtype)"
      ]
    },
    {
      "cell_type": "markdown",
      "id": "d9e8ac20",
      "metadata": {
        "id": "d9e8ac20"
      },
      "source": [
        "Note that in the above, the `(3,)` represents a tuple of length 1, distinct from a scalar integer `3`."
      ]
    },
    {
      "cell_type": "code",
      "execution_count": 34,
      "id": "a7551a59",
      "metadata": {
        "hide-output": false,
        "colab": {
          "base_uri": "https://localhost:8080/"
        },
        "id": "a7551a59",
        "outputId": "398a76f7-b3aa-4cb8-ec78-daf72adf3102"
      },
      "outputs": [
        {
          "output_type": "stream",
          "name": "stdout",
          "text": [
            "(2, 3, 2)\n",
            "float64\n"
          ]
        }
      ],
      "source": [
        "x = np.array([\n",
        "    [[1.0, 2.0], [3.0, 4.0], [5.0, 6.0]],\n",
        "    [[7.0, 8.0], [9.0, 10.0], [11.0, 12.0]]\n",
        "])\n",
        "print(x.shape)\n",
        "print(x.dtype)"
      ]
    },
    {
      "cell_type": "markdown",
      "id": "c2c38f35",
      "metadata": {
        "id": "c2c38f35"
      },
      "source": [
        "#### Creating Arrays\n",
        "\n",
        "It’s usually impractical to define arrays by hand as we have done so far.\n",
        "\n",
        "We’ll often need to create an array with default values and then fill it\n",
        "with other values.\n",
        "\n",
        "We can create arrays with the functions `np.zeros` and `np.ones`.\n",
        "\n",
        "Both functions take a tuple that denotes the shape of an array and creates an\n",
        "array filled with 0s or 1s respectively."
      ]
    },
    {
      "cell_type": "code",
      "execution_count": 35,
      "id": "92c419df",
      "metadata": {
        "hide-output": false,
        "colab": {
          "base_uri": "https://localhost:8080/"
        },
        "id": "92c419df",
        "outputId": "46568352-c30b-41f7-cb12-cda046be2eb7"
      },
      "outputs": [
        {
          "output_type": "execute_result",
          "data": {
            "text/plain": [
              "array([[[0., 0., 0., 0.],\n",
              "        [0., 0., 0., 0.],\n",
              "        [0., 0., 0., 0.]],\n",
              "\n",
              "       [[0., 0., 0., 0.],\n",
              "        [0., 0., 0., 0.],\n",
              "        [0., 0., 0., 0.]]])"
            ]
          },
          "metadata": {},
          "execution_count": 35
        }
      ],
      "source": [
        "sizes = (2, 3, 4)\n",
        "x = np.zeros(sizes) # note, a tuple!\n",
        "x"
      ]
    },
    {
      "cell_type": "code",
      "execution_count": 36,
      "id": "fe3abd9c",
      "metadata": {
        "hide-output": false,
        "colab": {
          "base_uri": "https://localhost:8080/"
        },
        "id": "fe3abd9c",
        "outputId": "635db06f-ceb4-4a34-ec8b-c2c72c550e0a"
      },
      "outputs": [
        {
          "output_type": "execute_result",
          "data": {
            "text/plain": [
              "array([1., 1., 1., 1.])"
            ]
          },
          "metadata": {},
          "execution_count": 36
        }
      ],
      "source": [
        "y = np.ones((4))\n",
        "y"
      ]
    },
    {
      "cell_type": "markdown",
      "id": "de3ae93b",
      "metadata": {
        "id": "de3ae93b"
      },
      "source": [
        "#### Broadcasting Operations\n",
        "\n",
        "Two types of operations that will be useful for arrays of any dimension are:\n",
        "\n",
        "1. Operations between an array and a single number.  \n",
        "1. Operations between two arrays of the same shape.  \n",
        "\n",
        "\n",
        "When we perform operations on an array by using a single number, we simply apply that operation to every element of the array."
      ]
    },
    {
      "cell_type": "code",
      "execution_count": 37,
      "id": "b76809e3",
      "metadata": {
        "hide-output": false,
        "colab": {
          "base_uri": "https://localhost:8080/"
        },
        "id": "b76809e3",
        "outputId": "95bb9703-598b-4194-b809-92d56171e3f7"
      },
      "outputs": [
        {
          "output_type": "stream",
          "name": "stdout",
          "text": [
            "x =  [[1. 1.]\n",
            " [1. 1.]]\n",
            "2 + x =  [[3. 3.]\n",
            " [3. 3.]]\n",
            "2 - x =  [[1. 1.]\n",
            " [1. 1.]]\n",
            "2 * x =  [[2. 2.]\n",
            " [2. 2.]]\n",
            "x / 2 =  [[0.5 0.5]\n",
            " [0.5 0.5]]\n"
          ]
        }
      ],
      "source": [
        "# Using np.ones to create an array\n",
        "x = np.ones((2, 2))\n",
        "print(\"x = \", x)\n",
        "print(\"2 + x = \", 2 + x)\n",
        "print(\"2 - x = \", 2 - x)\n",
        "print(\"2 * x = \", 2 * x)\n",
        "print(\"x / 2 = \", x / 2)"
      ]
    },
    {
      "cell_type": "markdown",
      "id": "92b68f06",
      "metadata": {
        "id": "92b68f06"
      },
      "source": [
        "#### Exercise\n",
        "\n",
        "See exercise 4 in the [exercise list](#ex3-1).\n",
        "\n",
        "Operations between two arrays of the same size, in this case `(2, 2)`, simply apply the operation\n",
        "element-wise between the arrays."
      ]
    },
    {
      "cell_type": "code",
      "execution_count": 38,
      "id": "c1d5e2b6",
      "metadata": {
        "hide-output": false,
        "colab": {
          "base_uri": "https://localhost:8080/"
        },
        "id": "c1d5e2b6",
        "outputId": "fe4c1f16-6555-49dc-c744-e714376335ce"
      },
      "outputs": [
        {
          "output_type": "stream",
          "name": "stdout",
          "text": [
            "x =  [[1. 2.]\n",
            " [3. 4.]]\n",
            "y =  [[1. 1.]\n",
            " [1. 1.]]\n",
            "x + y =  [[2. 3.]\n",
            " [4. 5.]]\n",
            "x - y [[0. 1.]\n",
            " [2. 3.]]\n",
            "(elementwise) x * y =  [[1. 2.]\n",
            " [3. 4.]]\n",
            "(elementwise) x / y =  [[1. 2.]\n",
            " [3. 4.]]\n"
          ]
        }
      ],
      "source": [
        "x = np.array([[1.0, 2.0], [3.0, 4.0]])\n",
        "y = np.ones((2, 2))\n",
        "print(\"x = \", x)\n",
        "print(\"y = \", y)\n",
        "print(\"x + y = \", x + y)\n",
        "print(\"x - y\", x - y)\n",
        "print(\"(elementwise) x * y = \", x * y)\n",
        "print(\"(elementwise) x / y = \", x / y)"
      ]
    },
    {
      "cell_type": "markdown",
      "id": "d90d12ce",
      "metadata": {
        "id": "d90d12ce"
      },
      "source": [
        "### Universal Functions\n",
        "\n",
        "We will often need to transform data by applying a function to every element of an array.\n",
        "\n",
        "Numpy has good support for these operations, called *universal functions* or ufuncs for short.\n",
        "\n",
        "The\n",
        "[numpy documentation](https://docs.scipy.org/doc/numpy/reference/ufuncs.html?highlight=ufunc#available-ufuncs)\n",
        "has a list of all available ufuncs.\n",
        "\n",
        ">**Note**\n",
        ">\n",
        ">You should think of operations between a single number and an array, as we\n",
        "just saw, as a ufunc.\n",
        "\n",
        "Below, we will create an array that contains 10 points between 0 and 25."
      ]
    },
    {
      "cell_type": "code",
      "execution_count": 52,
      "id": "860f0528",
      "metadata": {
        "hide-output": false,
        "id": "860f0528"
      },
      "outputs": [],
      "source": [
        "# This is similar to range -- but spits out 50 evenly spaced points from 0.5\n",
        "# to 25.\n",
        "x = np.linspace(0.5, 25, 10)"
      ]
    },
    {
      "cell_type": "markdown",
      "id": "bdc67b76",
      "metadata": {
        "id": "bdc67b76"
      },
      "source": [
        "We will experiment with some ufuncs below:"
      ]
    },
    {
      "cell_type": "code",
      "execution_count": 53,
      "id": "4930e248",
      "metadata": {
        "hide-output": false,
        "colab": {
          "base_uri": "https://localhost:8080/"
        },
        "id": "4930e248",
        "outputId": "46aeb28a-8e45-46de-f188-719c1599c068"
      },
      "outputs": [
        {
          "output_type": "execute_result",
          "data": {
            "text/plain": [
              "array([ 0.47942554, -0.08054223, -0.33229977,  0.68755122, -0.92364381,\n",
              "        0.99966057, -0.9024271 ,  0.64879484, -0.28272056, -0.13235175])"
            ]
          },
          "metadata": {},
          "execution_count": 53
        }
      ],
      "source": [
        "# Applies the sin function to each element of x\n",
        "np.sin(x)"
      ]
    },
    {
      "cell_type": "markdown",
      "id": "c533336f",
      "metadata": {
        "id": "c533336f"
      },
      "source": [
        "Of course, we could do the same thing with a comprehension, but\n",
        "the code would be both less readable and less efficient."
      ]
    },
    {
      "cell_type": "code",
      "source": [
        "import math\n",
        "np.array([math.sin(xval) for xval in x])"
      ],
      "metadata": {
        "colab": {
          "base_uri": "https://localhost:8080/"
        },
        "id": "PFqVV4Q7uO-z",
        "outputId": "49efba36-f7ce-477b-94c7-c54afd73b6df"
      },
      "id": "PFqVV4Q7uO-z",
      "execution_count": 54,
      "outputs": [
        {
          "output_type": "execute_result",
          "data": {
            "text/plain": [
              "array([ 0.47942554, -0.08054223, -0.33229977,  0.68755122, -0.92364381,\n",
              "        0.99966057, -0.9024271 ,  0.64879484, -0.28272056, -0.13235175])"
            ]
          },
          "metadata": {},
          "execution_count": 54
        }
      ]
    },
    {
      "cell_type": "code",
      "execution_count": 55,
      "id": "3c645bff",
      "metadata": {
        "hide-output": false,
        "colab": {
          "base_uri": "https://localhost:8080/"
        },
        "id": "3c645bff",
        "outputId": "0455bcb7-96d1-4196-852a-5bde863e9a66"
      },
      "outputs": [
        {
          "output_type": "execute_result",
          "data": {
            "text/plain": [
              "array([ 0.47942554, -0.08054223, -0.33229977,  0.68755122, -0.92364381,\n",
              "        0.99966057, -0.9024271 ,  0.64879484, -0.28272056, -0.13235175])"
            ]
          },
          "metadata": {},
          "execution_count": 55
        }
      ],
      "source": [
        "np.array([np.sin(xval) for xval in x])"
      ]
    },
    {
      "cell_type": "markdown",
      "id": "a3307fe5",
      "metadata": {
        "id": "a3307fe5"
      },
      "source": [
        "You can use the inspector or the docstrings with `np.<TAB>` to see other available functions, such as"
      ]
    },
    {
      "cell_type": "code",
      "execution_count": 56,
      "id": "7dbc32cc",
      "metadata": {
        "hide-output": false,
        "colab": {
          "base_uri": "https://localhost:8080/"
        },
        "id": "7dbc32cc",
        "outputId": "ffc1bc2a-99b6-4a38-eb18-3e046bcc49fc"
      },
      "outputs": [
        {
          "output_type": "execute_result",
          "data": {
            "text/plain": [
              "array([-0.69314718,  1.17007125,  1.78245708,  2.15948425,  2.43263822,\n",
              "        2.64696251,  2.82336105,  2.97325942,  3.10358967,  3.21887582])"
            ]
          },
          "metadata": {},
          "execution_count": 56
        }
      ],
      "source": [
        "# Takes log of each element of x\n",
        "np.log(x)"
      ]
    },
    {
      "cell_type": "markdown",
      "id": "348bb72e",
      "metadata": {
        "id": "348bb72e"
      },
      "source": [
        "A benefit of using the numpy arrays is that numpy has succinct code for combining vectorized operations."
      ]
    },
    {
      "cell_type": "code",
      "execution_count": 64,
      "id": "2b01fc8e",
      "metadata": {
        "hide-output": false,
        "colab": {
          "base_uri": "https://localhost:8080/"
        },
        "id": "2b01fc8e",
        "outputId": "175b897a-a314-48be-ffca-a6da960ad872"
      },
      "outputs": [
        {
          "output_type": "execute_result",
          "data": {
            "text/plain": [
              "array([0.        , 1.38629436, 3.29583687])"
            ]
          },
          "metadata": {},
          "execution_count": 64
        }
      ],
      "source": [
        "# Calculate log(z) * z elementwise\n",
        "z = np.array([1,2,3])\n",
        "np.log(z) * z"
      ]
    },
    {
      "cell_type": "markdown",
      "id": "c0b56bfe",
      "metadata": {
        "id": "c0b56bfe"
      },
      "source": [
        "### Exercise\n",
        "\n",
        "See exercise 5 in the [exercise list](#ex3-1)."
      ]
    },
    {
      "cell_type": "markdown",
      "id": "7059b944",
      "metadata": {
        "id": "7059b944"
      },
      "source": [
        "### Other Useful Array Operations\n",
        "\n",
        "We have barely scratched the surface of what is possible using numpy arrays.\n",
        "\n",
        "We hope you will experiment with other functions from numpy and see how they\n",
        "work.\n",
        "\n",
        "Below, we demonstrate a few more array operations that we find most useful – just to give you an idea\n",
        "of what else you might find.\n",
        "\n",
        "When you’re attempting to do an operation that you feel should be common, the numpy library probably has it.\n",
        "\n",
        "Use Google and tab completion to check this."
      ]
    },
    {
      "cell_type": "code",
      "execution_count": 65,
      "id": "80fc6dae",
      "metadata": {
        "hide-output": false,
        "id": "80fc6dae"
      },
      "outputs": [],
      "source": [
        "x = np.linspace(0, 25, 10)"
      ]
    },
    {
      "cell_type": "code",
      "execution_count": 66,
      "id": "359eab73",
      "metadata": {
        "hide-output": false,
        "colab": {
          "base_uri": "https://localhost:8080/"
        },
        "id": "359eab73",
        "outputId": "a017f756-b340-4fba-97cb-18e0cbcad7b6"
      },
      "outputs": [
        {
          "output_type": "execute_result",
          "data": {
            "text/plain": [
              "12.5"
            ]
          },
          "metadata": {},
          "execution_count": 66
        }
      ],
      "source": [
        "np.mean(x)"
      ]
    },
    {
      "cell_type": "code",
      "execution_count": 67,
      "id": "654a0e77",
      "metadata": {
        "hide-output": false,
        "colab": {
          "base_uri": "https://localhost:8080/"
        },
        "id": "654a0e77",
        "outputId": "f0808fb2-ba35-4a07-ba91-dbd2df3639bd"
      },
      "outputs": [
        {
          "output_type": "execute_result",
          "data": {
            "text/plain": [
              "7.9785592313028175"
            ]
          },
          "metadata": {},
          "execution_count": 67
        }
      ],
      "source": [
        "np.std(x)"
      ]
    },
    {
      "cell_type": "code",
      "execution_count": 68,
      "id": "47436a62",
      "metadata": {
        "hide-output": false,
        "colab": {
          "base_uri": "https://localhost:8080/"
        },
        "id": "47436a62",
        "outputId": "01bb49bb-3a8e-4e02-e0df-2bc526120c76"
      },
      "outputs": [
        {
          "output_type": "execute_result",
          "data": {
            "text/plain": [
              "25.0"
            ]
          },
          "metadata": {},
          "execution_count": 68
        }
      ],
      "source": [
        "# np.min, np.median, etc... are also defined\n",
        "np.max(x)"
      ]
    },
    {
      "cell_type": "code",
      "execution_count": 69,
      "id": "ee1baeac",
      "metadata": {
        "hide-output": false,
        "colab": {
          "base_uri": "https://localhost:8080/"
        },
        "id": "ee1baeac",
        "outputId": "2ba99ae4-2e39-4130-ce8d-f033bb0075f0"
      },
      "outputs": [
        {
          "output_type": "execute_result",
          "data": {
            "text/plain": [
              "array([2.77777778, 2.77777778, 2.77777778, 2.77777778, 2.77777778,\n",
              "       2.77777778, 2.77777778, 2.77777778, 2.77777778])"
            ]
          },
          "metadata": {},
          "execution_count": 69
        }
      ],
      "source": [
        "np.diff(x)"
      ]
    },
    {
      "cell_type": "code",
      "execution_count": 70,
      "id": "39bf55c7",
      "metadata": {
        "hide-output": false,
        "colab": {
          "base_uri": "https://localhost:8080/"
        },
        "id": "39bf55c7",
        "outputId": "314a8259-4e11-404f-95f9-2db8d1a4499d"
      },
      "outputs": [
        {
          "output_type": "execute_result",
          "data": {
            "text/plain": [
              "array([[ 0.        ,  2.77777778],\n",
              "       [ 5.55555556,  8.33333333],\n",
              "       [11.11111111, 13.88888889],\n",
              "       [16.66666667, 19.44444444],\n",
              "       [22.22222222, 25.        ]])"
            ]
          },
          "metadata": {},
          "execution_count": 70
        }
      ],
      "source": [
        "np.reshape(x, (5, 2))"
      ]
    },
    {
      "cell_type": "markdown",
      "id": "aa82ae6a",
      "metadata": {
        "id": "aa82ae6a"
      },
      "source": [
        "Note that many of these operations can be called as methods on `x`:"
      ]
    },
    {
      "cell_type": "code",
      "execution_count": 71,
      "id": "cc1bbae3",
      "metadata": {
        "hide-output": false,
        "colab": {
          "base_uri": "https://localhost:8080/"
        },
        "id": "cc1bbae3",
        "outputId": "6cf35adf-0891-4367-ea9d-3ab50d01b657"
      },
      "outputs": [
        {
          "output_type": "stream",
          "name": "stdout",
          "text": [
            "12.5\n",
            "7.9785592313028175\n",
            "25.0\n",
            "[[ 0.          2.77777778]\n",
            " [ 5.55555556  8.33333333]\n",
            " [11.11111111 13.88888889]\n",
            " [16.66666667 19.44444444]\n",
            " [22.22222222 25.        ]]\n"
          ]
        }
      ],
      "source": [
        "print(x.mean())\n",
        "print(x.std())\n",
        "print(x.max())\n",
        "# print(x.diff())  # this one is not a method...\n",
        "print(x.reshape((5, 2)))"
      ]
    },
    {
      "cell_type": "markdown",
      "id": "e76eb9ad",
      "metadata": {
        "id": "e76eb9ad"
      },
      "source": [
        "Finally, `np.vectorize` can be conveniently used with numpy broadcasting and any functions."
      ]
    },
    {
      "cell_type": "code",
      "execution_count": 84,
      "id": "14ffdd8a",
      "metadata": {
        "hide-output": false,
        "colab": {
          "base_uri": "https://localhost:8080/"
        },
        "id": "14ffdd8a",
        "outputId": "71b313f9-001b-4253-c033-6f2fda1f13a6"
      },
      "outputs": [
        {
          "output_type": "stream",
          "name": "stdout",
          "text": [
            "[0.37454012 0.95071431 0.73199394 0.59865848 0.15601864 0.15599452\n",
            " 0.05808361 0.86617615 0.60111501 0.70807258]\n",
            "low\n",
            "['high' 'high' 'high' 'high' 'low' 'low' 'low' 'high' 'high' 'high']\n"
          ]
        }
      ],
      "source": [
        "np.random.seed(42)\n",
        "x = np.random.rand(10)\n",
        "print(x)\n",
        "\n",
        "def f(val):\n",
        "    if val < 0.3:\n",
        "        return \"low\"\n",
        "    else:\n",
        "        return \"high\"\n",
        "\n",
        "print(f(0.1)) # scalar, no problem\n",
        "# f(x) # array, fails since f() is scalar\n",
        "f_vec = np.vectorize(f)\n",
        "print(f_vec(x))"
      ]
    },
    {
      "cell_type": "code",
      "source": [],
      "metadata": {
        "id": "JH_hBOM5yYoY"
      },
      "id": "JH_hBOM5yYoY",
      "execution_count": 77,
      "outputs": []
    },
    {
      "cell_type": "markdown",
      "id": "072a0858",
      "metadata": {
        "id": "072a0858"
      },
      "source": [
        "Caution: `np.vectorize` is convenient for numpy broadcasting with any function\n",
        "but is not intended to be high performance.\n",
        "\n",
        "When speed matters, directly write a `f` function to work on arrays.\n",
        "\n",
        "\n",
        "<a id='ex3-1'></a>"
      ]
    },
    {
      "cell_type": "markdown",
      "id": "5e3f2e78",
      "metadata": {
        "id": "5e3f2e78"
      },
      "source": [
        "## Exercises"
      ]
    },
    {
      "cell_type": "markdown",
      "id": "332887d8",
      "metadata": {
        "id": "332887d8"
      },
      "source": [
        "### Exercise 1\n",
        "\n",
        "Try indexing into another element of your choice from the\n",
        "3-dimensional array.\n",
        "\n",
        "Building an understanding of indexing means working through this\n",
        "type of operation several times – without skipping steps!\n",
        "\n",
        "([back to text](#dir3-1-1))"
      ]
    },
    {
      "cell_type": "markdown",
      "id": "89de56d5",
      "metadata": {
        "id": "89de56d5"
      },
      "source": [
        "### Exercise 2\n",
        "\n",
        "Look at the 2-dimensional array `x_2d`.\n",
        "\n",
        "Does the inner-most index correspond to rows or columns? What does the\n",
        "outer-most index correspond to?\n",
        "\n",
        "Write your thoughts.\n",
        "\n",
        "([back to text](#dir3-1-2))"
      ]
    },
    {
      "cell_type": "markdown",
      "id": "24d6d48b",
      "metadata": {
        "id": "24d6d48b"
      },
      "source": [
        "### Exercise 3\n",
        "\n",
        "What would you do to extract the array `[[5, 6], [50, 60]]`?\n",
        "\n",
        "([back to text](#dir3-1-3))"
      ]
    },
    {
      "cell_type": "markdown",
      "id": "8f2db286",
      "metadata": {
        "id": "8f2db286"
      },
      "source": [
        "### Exercise 4\n",
        "\n",
        "Do you recall what multiplication by an integer did for lists?\n",
        "\n",
        "How does this differ?\n",
        "\n",
        "([back to text](#dir3-1-4))"
      ]
    },
    {
      "cell_type": "markdown",
      "id": "6ea14c7f",
      "metadata": {
        "id": "6ea14c7f"
      },
      "source": [
        "### Exercise 5\n",
        "\n",
        "Let’s revisit a bond pricing example we saw in [Control flow](https://datascience.quantecon.org/../python_fundamentals/control_flow.html).\n",
        "\n",
        "Recall that the equation for pricing a bond with coupon payment $ C $,\n",
        "face value $ M $, yield to maturity $ i $, and periods to maturity\n",
        "$ N $ is\n",
        "\n",
        "$$\n",
        "\\begin{align*}\n",
        "    P &= \\left(\\sum_{n=1}^N \\frac{C}{(i+1)^n}\\right) + \\frac{M}{(1+i)^N} \\\\\n",
        "      &= C \\left(\\frac{1 - (1+i)^{-N}}{i} \\right) + M(1+i)^{-N}\n",
        "\\end{align*}\n",
        "$$\n",
        "\n",
        "In the code cell below, we have defined variables for `i`, `M` and `C`.\n",
        "\n",
        "You have two tasks:\n",
        "\n",
        "1. Define a numpy array `N` that contains all maturities between 1 and 10  \n",
        "  look at the `np.arange` function.  \n",
        "1. Using the equation above, determine the bond prices of all maturity levels in your array.  "
      ]
    },
    {
      "cell_type": "code",
      "execution_count": null,
      "id": "d2a97b78",
      "metadata": {
        "hide-output": false,
        "id": "d2a97b78"
      },
      "outputs": [],
      "source": [
        "i = 0.03\n",
        "M = 100\n",
        "C = 5\n",
        "\n",
        "# Define array here\n",
        "\n",
        "# price bonds here"
      ]
    },
    {
      "cell_type": "markdown",
      "id": "679849b1",
      "metadata": {
        "id": "679849b1"
      },
      "source": [
        "([back to text](#dir3-1-5))"
      ]
    }
  ],
  "metadata": {
    "date": 1673670630.1136258,
    "filename": "numpy_arrays.md",
    "kernelspec": {
      "display_name": "Python",
      "language": "python3",
      "name": "python3"
    },
    "title": "Introduction to Numpy",
    "colab": {
      "provenance": []
    }
  },
  "nbformat": 4,
  "nbformat_minor": 5
}